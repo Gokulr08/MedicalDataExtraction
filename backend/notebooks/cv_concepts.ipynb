{
 "cells": [
  {
   "cell_type": "markdown",
   "id": "de4148cc",
   "metadata": {},
   "source": [
    "## For clear image"
   ]
  },
  {
   "cell_type": "code",
   "execution_count": 1,
   "id": "9f5a1d69",
   "metadata": {
    "scrolled": true
   },
   "outputs": [],
   "source": [
    "import cv2\n",
    "from PIL import Image"
   ]
  },
  {
   "cell_type": "code",
   "execution_count": 2,
   "id": "77803f13",
   "metadata": {},
   "outputs": [
    {
     "data": {
      "text/plain": [
       "array([[206, 206, 206, ..., 185, 185, 185],\n",
       "       [206, 206, 206, ..., 185, 185, 185],\n",
       "       [206, 206, 206, ..., 186, 185, 185],\n",
       "       ...,\n",
       "       [207, 207, 207, ..., 191, 190, 190],\n",
       "       [207, 207, 207, ..., 191, 190, 190],\n",
       "       [207, 207, 207, ..., 191, 191, 190]], dtype=uint8)"
      ]
     },
     "execution_count": 2,
     "metadata": {},
     "output_type": "execute_result"
    }
   ],
   "source": [
    "clr_img = cv2.imread('clear_image.jpg', flags = cv2.IMREAD_GRAYSCALE)\n",
    "clr_img"
   ]
  },
  {
   "cell_type": "code",
   "execution_count": 3,
   "id": "761db922",
   "metadata": {},
   "outputs": [],
   "source": [
    "_, new_clr_img = cv2.threshold(clr_img, 150, 255, cv2.THRESH_BINARY)\n",
    "Image.fromarray(new_clr_img).show()"
   ]
  },
  {
   "cell_type": "markdown",
   "id": "f6c849d0",
   "metadata": {},
   "source": [
    "## Dark_image"
   ]
  },
  {
   "cell_type": "code",
   "execution_count": 4,
   "id": "096a6de0",
   "metadata": {},
   "outputs": [
    {
     "data": {
      "text/plain": [
       "array([[206, 206, 206, ..., 187, 186, 184],\n",
       "       [206, 206, 206, ..., 186, 185, 185],\n",
       "       [206, 206, 206, ..., 186, 185, 185],\n",
       "       ...,\n",
       "       [162, 157, 152, ..., 184, 184, 184],\n",
       "       [160, 156, 152, ..., 184, 184, 184],\n",
       "       [156, 158, 158, ..., 184, 184, 184]], dtype=uint8)"
      ]
     },
     "execution_count": 4,
     "metadata": {},
     "output_type": "execute_result"
    }
   ],
   "source": [
    "dark_img = cv2.imread('dark_image.jpg', flags = cv2.IMREAD_GRAYSCALE)\n",
    "dark_img"
   ]
  },
  {
   "cell_type": "code",
   "execution_count": 6,
   "id": "bdcd557f",
   "metadata": {},
   "outputs": [],
   "source": [
    " _, new_dark_img = cv2.threshold(dark_img, 150, 255, cv2.THRESH_BINARY)\n",
    "Image.fromarray(new_dark_img).show()"
   ]
  },
  {
   "cell_type": "code",
   "execution_count": 5,
   "id": "bbe81890",
   "metadata": {},
   "outputs": [],
   "source": [
    "new_dark_img = cv2.adaptiveThreshold(\n",
    "    dark_img, 255,\n",
    "    cv2.ADAPTIVE_THRESH_GAUSSIAN_C,\n",
    "    cv2.THRESH_BINARY,\n",
    "    61,\n",
    "    11\n",
    ")\n",
    "Image.fromarray(new_dark_img).show()"
   ]
  },
  {
   "cell_type": "code",
   "execution_count": null,
   "id": "3263d6bf",
   "metadata": {},
   "outputs": [],
   "source": []
  }
 ],
 "metadata": {
  "kernelspec": {
   "display_name": "Python 3 (ipykernel)",
   "language": "python",
   "name": "python3"
  },
  "language_info": {
   "codemirror_mode": {
    "name": "ipython",
    "version": 3
   },
   "file_extension": ".py",
   "mimetype": "text/x-python",
   "name": "python",
   "nbconvert_exporter": "python",
   "pygments_lexer": "ipython3",
   "version": "3.11.5"
  }
 },
 "nbformat": 4,
 "nbformat_minor": 5
}
