{
 "cells": [
  {
   "cell_type": "code",
   "execution_count": 3,
   "id": "ecf4098b",
   "metadata": {},
   "outputs": [
    {
     "name": "stdout",
     "output_type": "stream",
     "text": [
      "Collecting opencv-python\n",
      "  Obtaining dependency information for opencv-python from https://files.pythonhosted.org/packages/38/d2/3e8c13ffc37ca5ebc6f382b242b44acb43eb489042e1728407ac3904e72f/opencv_python-4.8.1.78-cp37-abi3-win_amd64.whl.metadata\n",
      "  Using cached opencv_python-4.8.1.78-cp37-abi3-win_amd64.whl.metadata (20 kB)\n",
      "Requirement already satisfied: numpy>=1.21.2 in c:\\users\\rahul\\anaconda3\\lib\\site-packages (from opencv-python) (1.24.3)\n",
      "Using cached opencv_python-4.8.1.78-cp37-abi3-win_amd64.whl (38.1 MB)\n",
      "Installing collected packages: opencv-python\n",
      "Successfully installed opencv-python-4.8.1.78\n",
      "Note: you may need to restart the kernel to use updated packages.\n"
     ]
    }
   ],
   "source": [
    "pip install opencv-python"
   ]
  },
  {
   "cell_type": "markdown",
   "id": "002769ab",
   "metadata": {},
   "source": [
    "## For clear image"
   ]
  },
  {
   "cell_type": "code",
   "execution_count": 22,
   "id": "cabc6416",
   "metadata": {
    "scrolled": true
   },
   "outputs": [],
   "source": [
    "import cv2\n",
    "from PIL import Image"
   ]
  },
  {
   "cell_type": "code",
   "execution_count": 23,
   "id": "3279353c",
   "metadata": {},
   "outputs": [
    {
     "data": {
      "text/plain": [
       "array([[206, 206, 206, ..., 185, 185, 185],\n",
       "       [206, 206, 206, ..., 185, 185, 185],\n",
       "       [206, 206, 206, ..., 186, 185, 185],\n",
       "       ...,\n",
       "       [207, 207, 207, ..., 191, 190, 190],\n",
       "       [207, 207, 207, ..., 191, 190, 190],\n",
       "       [207, 207, 207, ..., 191, 191, 190]], dtype=uint8)"
      ]
     },
     "execution_count": 23,
     "metadata": {},
     "output_type": "execute_result"
    }
   ],
   "source": [
    "clr_img = cv2.imread('clear_image.jpg', flags = cv2.IMREAD_GRAYSCALE)\n",
    "clr_img"
   ]
  },
  {
   "cell_type": "code",
   "execution_count": 24,
   "id": "35c5a92a",
   "metadata": {},
   "outputs": [],
   "source": [
    "_, new_clr_img = cv2.threshold(clr_img, 150, 255, cv2.THRESH_BINARY)\n",
    "Image.fromarray(new_clr_img).show()"
   ]
  },
  {
   "cell_type": "markdown",
   "id": "209477ea",
   "metadata": {},
   "source": [
    "## Dark_image"
   ]
  },
  {
   "cell_type": "code",
   "execution_count": 34,
   "id": "6539e79d",
   "metadata": {},
   "outputs": [
    {
     "data": {
      "text/plain": [
       "array([[206, 206, 206, ..., 187, 186, 184],\n",
       "       [206, 206, 206, ..., 186, 185, 185],\n",
       "       [206, 206, 206, ..., 186, 185, 185],\n",
       "       ...,\n",
       "       [162, 157, 152, ..., 184, 184, 184],\n",
       "       [160, 156, 152, ..., 184, 184, 184],\n",
       "       [156, 158, 158, ..., 184, 184, 184]], dtype=uint8)"
      ]
     },
     "execution_count": 34,
     "metadata": {},
     "output_type": "execute_result"
    }
   ],
   "source": [
    "dark_img = cv2.imread('dark_image.jpg', flags = cv2.IMREAD_GRAYSCALE)\n",
    "dark_img"
   ]
  },
  {
   "cell_type": "code",
   "execution_count": 35,
   "id": "acf7965f",
   "metadata": {},
   "outputs": [],
   "source": [
    "# _, new_dark_img = cv2.threshold(dark_img, 150, 255, cv2.THRESH_BINARY)\n",
    "# Image.fromarray(new_dark_img).show()"
   ]
  },
  {
   "cell_type": "code",
   "execution_count": 39,
   "id": "798213e9",
   "metadata": {},
   "outputs": [],
   "source": [
    "new_dark_img = cv2.adaptiveThreshold(\n",
    "    dark_img, 255,\n",
    "    cv2.ADAPTIVE_THRESH_GAUSSIAN_C,\n",
    "    cv2.THRESH_BINARY,\n",
    "    61,\n",
    "    11\n",
    ")\n",
    "Image.fromarray(new_dark_img).show()"
   ]
  },
  {
   "cell_type": "code",
   "execution_count": null,
   "id": "94b0bc0e",
   "metadata": {},
   "outputs": [],
   "source": []
  }
 ],
 "metadata": {
  "kernelspec": {
   "display_name": "Python 3 (ipykernel)",
   "language": "python",
   "name": "python3"
  },
  "language_info": {
   "codemirror_mode": {
    "name": "ipython",
    "version": 3
   },
   "file_extension": ".py",
   "mimetype": "text/x-python",
   "name": "python",
   "nbconvert_exporter": "python",
   "pygments_lexer": "ipython3",
   "version": "3.11.5"
  }
 },
 "nbformat": 4,
 "nbformat_minor": 5
}
